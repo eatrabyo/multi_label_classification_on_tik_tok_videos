{
 "cells": [
  {
   "cell_type": "code",
   "execution_count": 34,
   "metadata": {},
   "outputs": [
    {
     "name": "stdout",
     "output_type": "stream",
     "text": [
      "Requirement already satisfied: opencv-python in c:\\users\\wicm\\anaconda3\\lib\\site-packages (4.8.1.78)\n",
      "Requirement already satisfied: numpy>=1.19.3 in c:\\users\\wicm\\anaconda3\\lib\\site-packages (from opencv-python) (1.23.5)\n"
     ]
    }
   ],
   "source": [
    "!pip install opencv-python"
   ]
  },
  {
   "cell_type": "code",
   "execution_count": 35,
   "metadata": {},
   "outputs": [],
   "source": [
    "import cv2\n",
    "import os\n",
    "import numpy as np\n",
    "import keras\n",
    "import matplotlib.pyplot as plt\n",
    "from tensorflow.keras.applications import VGG16\n",
    "from keras import backend as K\n",
    "from keras.models import Model, Sequential, load_model\n",
    "from keras.layers import Input, Dense, Activation, LSTM\n",
    "import h5py"
   ]
  },
  {
   "cell_type": "code",
   "execution_count": 36,
   "metadata": {},
   "outputs": [],
   "source": [
    "DIR_TR = r\"C:\\Users\\wicm\\train.csv\"\n",
    "DIR_TE = r\"C:\\Users\\wicm\\test.csv\"\n",
    "DIR_VA = r\"C:\\Users\\wicm\\validation.csv\"\n",
    "\n",
    "# Frame size  \n",
    "IMG_SIZE = 224\n",
    "IMG_SIZE_TUPLE = (IMG_SIZE, IMG_SIZE)\n",
    "\n",
    "# Number of channels (RGB)\n",
    "NUM_CHANNELS = 3\n",
    "# Flat frame size\n",
    "IMG_SIZE_FLAT = IMG_SIZE**2 * NUM_CHANNELS\n",
    "\n",
    "# Number of sub-classes for classification\n",
    "NUM_CLASSES = 12\n",
    "CLASSES_LIST = ['Healthy Lifestyle and Weight Loss', 'Running', 'Weight Lifting', 'Yoga', 'Makeup', 'Haircare', 'Outfit', 'Skincare', 'Accommodation', 'Adventure', 'Culture', 'Food and drink']\n",
    "assert len(CLASSES_LIST) == NUM_CLASSES\n",
    "\n",
    "SEQUENCE_LENGTH = 20"
   ]
  },
  {
   "cell_type": "code",
   "execution_count": 37,
   "metadata": {},
   "outputs": [
    {
     "name": "stdout",
     "output_type": "stream",
     "text": [
      "Model: \"vgg16\"\n",
      "_________________________________________________________________\n",
      " Layer (type)                Output Shape              Param #   \n",
      "=================================================================\n",
      " input_4 (InputLayer)        [(None, 224, 224, 3)]     0         \n",
      "                                                                 \n",
      " block1_conv1 (Conv2D)       (None, 224, 224, 64)      1792      \n",
      "                                                                 \n",
      " block1_conv2 (Conv2D)       (None, 224, 224, 64)      36928     \n",
      "                                                                 \n",
      " block1_pool (MaxPooling2D)  (None, 112, 112, 64)      0         \n",
      "                                                                 \n",
      " block2_conv1 (Conv2D)       (None, 112, 112, 128)     73856     \n",
      "                                                                 \n",
      " block2_conv2 (Conv2D)       (None, 112, 112, 128)     147584    \n",
      "                                                                 \n",
      " block2_pool (MaxPooling2D)  (None, 56, 56, 128)       0         \n",
      "                                                                 \n",
      " block3_conv1 (Conv2D)       (None, 56, 56, 256)       295168    \n",
      "                                                                 \n",
      " block3_conv2 (Conv2D)       (None, 56, 56, 256)       590080    \n",
      "                                                                 \n",
      " block3_conv3 (Conv2D)       (None, 56, 56, 256)       590080    \n",
      "                                                                 \n",
      " block3_pool (MaxPooling2D)  (None, 28, 28, 256)       0         \n",
      "                                                                 \n",
      " block4_conv1 (Conv2D)       (None, 28, 28, 512)       1180160   \n",
      "                                                                 \n",
      " block4_conv2 (Conv2D)       (None, 28, 28, 512)       2359808   \n",
      "                                                                 \n",
      " block4_conv3 (Conv2D)       (None, 28, 28, 512)       2359808   \n",
      "                                                                 \n",
      " block4_pool (MaxPooling2D)  (None, 14, 14, 512)       0         \n",
      "                                                                 \n",
      " block5_conv1 (Conv2D)       (None, 14, 14, 512)       2359808   \n",
      "                                                                 \n",
      " block5_conv2 (Conv2D)       (None, 14, 14, 512)       2359808   \n",
      "                                                                 \n",
      " block5_conv3 (Conv2D)       (None, 14, 14, 512)       2359808   \n",
      "                                                                 \n",
      " block5_pool (MaxPooling2D)  (None, 7, 7, 512)         0         \n",
      "                                                                 \n",
      " flatten (Flatten)           (None, 25088)             0         \n",
      "                                                                 \n",
      " fc1 (Dense)                 (None, 4096)              102764544 \n",
      "                                                                 \n",
      " fc2 (Dense)                 (None, 4096)              16781312  \n",
      "                                                                 \n",
      " predictions (Dense)         (None, 1000)              4097000   \n",
      "                                                                 \n",
      "=================================================================\n",
      "Total params: 138,357,544\n",
      "Trainable params: 138,357,544\n",
      "Non-trainable params: 0\n",
      "_________________________________________________________________\n"
     ]
    }
   ],
   "source": [
    "image_model = VGG16(include_top=True, weights='imagenet')\n",
    "image_model.summary()"
   ]
  },
  {
   "cell_type": "code",
   "execution_count": 38,
   "metadata": {},
   "outputs": [],
   "source": [
    "transfer_layer = image_model.get_layer('fc2')\n",
    "image_model_transfer = Model(inputs=image_model.input,\n",
    "                             outputs=transfer_layer.output)"
   ]
  },
  {
   "cell_type": "code",
   "execution_count": 39,
   "metadata": {},
   "outputs": [
    {
     "name": "stdout",
     "output_type": "stream",
     "text": [
      "Model: \"model_3\"\n",
      "_________________________________________________________________\n",
      " Layer (type)                Output Shape              Param #   \n",
      "=================================================================\n",
      " input_4 (InputLayer)        [(None, 224, 224, 3)]     0         \n",
      "                                                                 \n",
      " block1_conv1 (Conv2D)       (None, 224, 224, 64)      1792      \n",
      "                                                                 \n",
      " block1_conv2 (Conv2D)       (None, 224, 224, 64)      36928     \n",
      "                                                                 \n",
      " block1_pool (MaxPooling2D)  (None, 112, 112, 64)      0         \n",
      "                                                                 \n",
      " block2_conv1 (Conv2D)       (None, 112, 112, 128)     73856     \n",
      "                                                                 \n",
      " block2_conv2 (Conv2D)       (None, 112, 112, 128)     147584    \n",
      "                                                                 \n",
      " block2_pool (MaxPooling2D)  (None, 56, 56, 128)       0         \n",
      "                                                                 \n",
      " block3_conv1 (Conv2D)       (None, 56, 56, 256)       295168    \n",
      "                                                                 \n",
      " block3_conv2 (Conv2D)       (None, 56, 56, 256)       590080    \n",
      "                                                                 \n",
      " block3_conv3 (Conv2D)       (None, 56, 56, 256)       590080    \n",
      "                                                                 \n",
      " block3_pool (MaxPooling2D)  (None, 28, 28, 256)       0         \n",
      "                                                                 \n",
      " block4_conv1 (Conv2D)       (None, 28, 28, 512)       1180160   \n",
      "                                                                 \n",
      " block4_conv2 (Conv2D)       (None, 28, 28, 512)       2359808   \n",
      "                                                                 \n",
      " block4_conv3 (Conv2D)       (None, 28, 28, 512)       2359808   \n",
      "                                                                 \n",
      " block4_pool (MaxPooling2D)  (None, 14, 14, 512)       0         \n",
      "                                                                 \n",
      " block5_conv1 (Conv2D)       (None, 14, 14, 512)       2359808   \n",
      "                                                                 \n",
      " block5_conv2 (Conv2D)       (None, 14, 14, 512)       2359808   \n",
      "                                                                 \n",
      " block5_conv3 (Conv2D)       (None, 14, 14, 512)       2359808   \n",
      "                                                                 \n",
      " block5_pool (MaxPooling2D)  (None, 7, 7, 512)         0         \n",
      "                                                                 \n",
      " flatten (Flatten)           (None, 25088)             0         \n",
      "                                                                 \n",
      " fc1 (Dense)                 (None, 4096)              102764544 \n",
      "                                                                 \n",
      " fc2 (Dense)                 (None, 4096)              16781312  \n",
      "                                                                 \n",
      "=================================================================\n",
      "Total params: 134,260,544\n",
      "Trainable params: 134,260,544\n",
      "Non-trainable params: 0\n",
      "_________________________________________________________________\n"
     ]
    }
   ],
   "source": [
    "image_model_transfer.summary()"
   ]
  },
  {
   "cell_type": "code",
   "execution_count": 40,
   "metadata": {},
   "outputs": [],
   "source": [
    "def get_frames(vid_path):\n",
    "    cap = cv2.VideoCapture(vid_path)\n",
    "    total_frames = cap.get(cv2.CAP_PROP_FRAME_COUNT)\n",
    "    split_size = int(min(3, max(total_frames // SEQUENCE_LENGTH, 1)))\n",
    "    chunk_size = total_frames / split_size\n",
    "    skip_frame = max(1, chunk_size // SEQUENCE_LENGTH)\n",
    "    \n",
    "    for c in range(split_size):\n",
    "        initial_frame = SEQUENCE_LENGTH * c * skip_frame\n",
    "        \n",
    "        frames_list = []\n",
    "        for i in range(SEQUENCE_LENGTH):\n",
    "            cap.set(cv2.CAP_PROP_POS_FRAMES, (i * skip_frame) + initial_frame)\n",
    "            ret, frame = cap.read()\n",
    "            if not ret:\n",
    "                break\n",
    "            \n",
    "            RGB_img = cv2.cvtColor(frame, cv2.COLOR_BGR2RGB)\n",
    "                \n",
    "            res = cv2.resize(RGB_img, \n",
    "                             dsize=IMG_SIZE_TUPLE,\n",
    "                             interpolation=cv2.INTER_CUBIC)\n",
    "            \n",
    "            frames_list.append(res)\n",
    "\n",
    "            \n",
    "        if len(frames_list) != SEQUENCE_LENGTH:\n",
    "            continue\n",
    "        \n",
    "        result = np.array(frames_list)\n",
    "        result = (result / 255).astype(np.float16)\n",
    "        \n",
    "        yield result"
   ]
  },
  {
   "cell_type": "code",
   "execution_count": 41,
   "metadata": {},
   "outputs": [],
   "source": [
    "def extracted_features(vid_path):\n",
    "    gen = get_frames(vid_path)\n",
    "    for chunk in gen:\n",
    "        shape = (SEQUENCE_LENGTH, 4096)\n",
    "        transfer_values = np.zeros(shape=shape, dtype=np.float16)\n",
    "        transfer_values = image_model_transfer.predict(chunk)\n",
    "        \n",
    "        yield transfer_values"
   ]
  },
  {
   "cell_type": "code",
   "execution_count": 42,
   "metadata": {},
   "outputs": [],
   "source": [
    "def create_dataset(dataset_dir):\n",
    "    class_dataset_dir = os.listdir(dataset_dir)\n",
    "    features = []\n",
    "    labels = []\n",
    "    count = 0\n",
    "    \n",
    "    for dir in class_dataset_dir:\n",
    "        videos_list = os.listdir(os.path.join(dataset_dir, dir))\n",
    "        \n",
    "        for vid in videos_list:\n",
    "            gen_path = os.path.join(dataset_dir, dir, vid)\n",
    "            gen = extracted_features(gen_path)\n",
    "            for chunk in gen:\n",
    "                features.append(chunk)\n",
    "                if dir == CLASSES_LIST[0]:\n",
    "                    labels.append([1, 0, 0, 0, 0, 0, 0, 0, 0, 0, 0, 0])\n",
    "                elif dir == CLASSES_LIST[1]:\n",
    "                    labels.append([0, 1, 0, 0, 0, 0, 0, 0, 0, 0, 0, 0])\n",
    "                elif dir == CLASSES_LIST[2]:\n",
    "                    labels.append([0, 0, 1, 0, 0, 0, 0, 0, 0, 0, 0, 0])\n",
    "                elif dir == CLASSES_LIST[3]:\n",
    "                    labels.append([0, 0, 0, 1, 0, 0, 0, 0, 0, 0, 0, 0])\n",
    "                elif dir == CLASSES_LIST[4]:\n",
    "                    labels.append([0, 0, 0, 0, 1, 0, 0, 0, 0, 0, 0, 0])\n",
    "                elif dir == CLASSES_LIST[5]:\n",
    "                    labels.append([0, 0, 0, 0, 0, 1, 0, 0, 0, 0, 0, 0])\n",
    "                elif dir == CLASSES_LIST[6]:\n",
    "                    labels.append([0, 0, 0, 0, 0, 0, 1, 0, 0, 0, 0, 0])\n",
    "                elif dir == CLASSES_LIST[7]:\n",
    "                    labels.append([0, 0, 0, 0, 0, 0, 0, 1, 0, 0, 0, 0])\n",
    "                elif dir == CLASSES_LIST[8]:\n",
    "                    labels.append([0, 0, 0, 0, 0, 0, 0, 0, 1, 0, 0, 0])\n",
    "                elif dir == CLASSES_LIST[9]:\n",
    "                    labels.append([0, 0, 0, 0, 0, 0, 0, 0, 0, 1, 0, 0])\n",
    "                elif dir == CLASSES_LIST[10]:\n",
    "                    labels.append([0, 0, 0, 0, 0, 0, 0, 0, 0, 0, 1, 0])\n",
    "                elif dir == CLASSES_LIST[11]:\n",
    "                    labels.append([0, 0, 0, 0, 0, 0, 0, 0, 0, 0, 0, 1])\n",
    "            count += 1\n",
    "            print(gen_path, count, len(videos_list))\n",
    "    \n",
    "    return features, labels"
   ]
  },
  {
   "cell_type": "code",
   "execution_count": 43,
   "metadata": {},
   "outputs": [
    {
     "ename": "NotADirectoryError",
     "evalue": "[WinError 267] The directory name is invalid: 'C:\\\\Users\\\\wicm\\\\train.csv'",
     "output_type": "error",
     "traceback": [
      "\u001b[1;31m---------------------------------------------------------------------------\u001b[0m",
      "\u001b[1;31mNotADirectoryError\u001b[0m                        Traceback (most recent call last)",
      "Cell \u001b[1;32mIn[43], line 1\u001b[0m\n\u001b[1;32m----> 1\u001b[0m features_tr, labels_tr \u001b[38;5;241m=\u001b[39m \u001b[43mcreate_dataset\u001b[49m\u001b[43m(\u001b[49m\u001b[43mDIR_TR\u001b[49m\u001b[43m)\u001b[49m\n\u001b[0;32m      2\u001b[0m features_te, labels_te \u001b[38;5;241m=\u001b[39m create_dataset(DIR_TE)\n\u001b[0;32m      3\u001b[0m features_va, labels_va \u001b[38;5;241m=\u001b[39m create_dataset(DIR_VA)\n",
      "Cell \u001b[1;32mIn[42], line 2\u001b[0m, in \u001b[0;36mcreate_dataset\u001b[1;34m(dataset_dir)\u001b[0m\n\u001b[0;32m      1\u001b[0m \u001b[38;5;28;01mdef\u001b[39;00m \u001b[38;5;21mcreate_dataset\u001b[39m(dataset_dir):\n\u001b[1;32m----> 2\u001b[0m     class_dataset_dir \u001b[38;5;241m=\u001b[39m \u001b[43mos\u001b[49m\u001b[38;5;241;43m.\u001b[39;49m\u001b[43mlistdir\u001b[49m\u001b[43m(\u001b[49m\u001b[43mdataset_dir\u001b[49m\u001b[43m)\u001b[49m\n\u001b[0;32m      3\u001b[0m     features \u001b[38;5;241m=\u001b[39m []\n\u001b[0;32m      4\u001b[0m     labels \u001b[38;5;241m=\u001b[39m []\n",
      "\u001b[1;31mNotADirectoryError\u001b[0m: [WinError 267] The directory name is invalid: 'C:\\\\Users\\\\wicm\\\\train.csv'"
     ]
    }
   ],
   "source": [
    "features_tr, labels_tr = create_dataset(DIR_TR)\n",
    "features_te, labels_te = create_dataset(DIR_TE)\n",
    "features_va, labels_va = create_dataset(DIR_VA)"
   ]
  },
  {
   "cell_type": "code",
   "execution_count": null,
   "metadata": {},
   "outputs": [],
   "source": [
    "print(\"Train features\", len(X_tr))\n",
    "print(\"Test features\", len(X_te))\n",
    "print(\"Validation features\", len(X_va))"
   ]
  },
  {
   "cell_type": "code",
   "execution_count": null,
   "metadata": {},
   "outputs": [],
   "source": [
    "#import torch\n",
    "#import pandas as pd"
   ]
  },
  {
   "cell_type": "code",
   "execution_count": null,
   "metadata": {},
   "outputs": [],
   "source": [
    "#dataset_path = r\"C:\\Users\\wicm\\dataset.csv\""
   ]
  },
  {
   "cell_type": "code",
   "execution_count": null,
   "metadata": {},
   "outputs": [],
   "source": [
    "#df = pd.read_csv(dataset_path)\n",
    "#print(df.head(100))"
   ]
  },
  {
   "cell_type": "code",
   "execution_count": null,
   "metadata": {},
   "outputs": [],
   "source": [
    "import cv2\n",
    "\n",
    "SEQUENCE_LENGTH = 20\n",
    "def get_frames(dataset_path):\n",
    "    cap = cv2.VideoCapture(dataset_path)\n",
    "    total_frames = cap.get(cv2.CAP_PROP_FRAME_COUNT)\n",
    "    split_size = int(min(3, max(total_frames // SEQUENCE_LENGTH, 1)))\n",
    "    chunk_size = total_frames / split_size\n",
    "    skip_frame = max(1, chunk_size // SEQUENCE_LENGTH)\n",
    "    \n",
    "    for c in range(split_size):\n",
    "        initial_frame = SEQUENCE_LENGTH * c * skip_frame\n",
    "        \n",
    "        frames_list = []\n",
    "        for i in range(SEQUENCE_LENGTH):\n",
    "            cap.set(cv2.CAP_PROP_POS_FRAMES, (i * skip_frame) + initial_frame)\n",
    "            ret, frame = cap.read()\n",
    "            if not ret:\n",
    "                break\n",
    "            \n",
    "            RGB_img = cv2.cvtColor(frame, cv2.COLOR_BGR2RGB)\n",
    "                \n",
    "            res = cv2.resize(RGB_img, \n",
    "                             dsize=IMG_SIZE_TUPLE,\n",
    "                             interpolation=cv2.INTER_CUBIC)\n",
    "            \n",
    "            frames_list.append(res)\n",
    "\n",
    "        if len(frames_list) != SEQUENCE_LENGTH:\n",
    "            continue\n",
    "        \n",
    "        result = np.array(frames_list)\n",
    "        result = (result / 255).astype(np.float16)\n",
    "        \n",
    "        yield result"
   ]
  },
  {
   "cell_type": "code",
   "execution_count": null,
   "metadata": {},
   "outputs": [],
   "source": [
    "def extracted_features(dataset_path):\n",
    "    gen = get_frames(dataset_path)\n",
    "    for chunk in gen:\n",
    "        shape = (SEQUENCE_LENGTH, 4096)\n",
    "        transfer_values = np.zeros(shape=shape, dtype=np.float16)\n",
    "        transfer_values = image_model_transfer.predict(chunk)\n",
    "        \n",
    "        yield transfer_values"
   ]
  }
 ],
 "metadata": {
  "kernelspec": {
   "display_name": "base",
   "language": "python",
   "name": "python3"
  },
  "language_info": {
   "codemirror_mode": {
    "name": "ipython",
    "version": 3
   },
   "file_extension": ".py",
   "mimetype": "text/x-python",
   "name": "python",
   "nbconvert_exporter": "python",
   "pygments_lexer": "ipython3",
   "version": "3.9.16"
  }
 },
 "nbformat": 4,
 "nbformat_minor": 2
}
